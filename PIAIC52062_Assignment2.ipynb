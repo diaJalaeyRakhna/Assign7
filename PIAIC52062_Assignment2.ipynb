{
  "nbformat": 4,
  "nbformat_minor": 0,
  "metadata": {
    "kernelspec": {
      "name": "python3",
      "display_name": "Python 3.8.3 32-bit",
      "metadata": {
        "interpreter": {
          "hash": "663fc6312c847af1b9736b1896ff6e214e5453cd77d6749c0139af4fc13f9aa1"
        }
      }
    },
    "language_info": {
      "codemirror_mode": {
        "name": "ipython",
        "version": 3
      },
      "file_extension": ".py",
      "mimetype": "text/x-python",
      "name": "python",
      "nbconvert_exporter": "python",
      "pygments_lexer": "ipython3",
      "version": "3.8.3-final"
    },
    "colab": {
      "name": "PIAIC52062_Assignment2.ipynb",
      "provenance": [],
      "collapsed_sections": [],
      "include_colab_link": true
    }
  },
  "cells": [
    {
      "cell_type": "markdown",
      "metadata": {
        "id": "view-in-github",
        "colab_type": "text"
      },
      "source": [
        "<a href=\"https://colab.research.google.com/github/diaJalaeyRakhna/Assign7/blob/master/PIAIC52062_Assignment2.ipynb\" target=\"_parent\"><img src=\"https://colab.research.google.com/assets/colab-badge.svg\" alt=\"Open In Colab\"/></a>"
      ]
    },
    {
      "cell_type": "markdown",
      "metadata": {
        "id": "asSdY3QoZ55E"
      },
      "source": [
        "# Numpy_Assignment_2::"
      ]
    },
    {
      "cell_type": "markdown",
      "metadata": {
        "id": "DfwLjuPgZ55n"
      },
      "source": [
        "## Question:1"
      ]
    },
    {
      "cell_type": "markdown",
      "metadata": {
        "id": "aZ-9yEuOZ55r"
      },
      "source": [
        "### Convert a 1D array to a 2D array with 2 rows?"
      ]
    },
    {
      "cell_type": "markdown",
      "metadata": {
        "id": "NYYg5DS-Z55s"
      },
      "source": [
        "#### Desired output::"
      ]
    },
    {
      "cell_type": "markdown",
      "metadata": {
        "id": "EkRKkUUcZ55t"
      },
      "source": [
        "array([[0, 1, 2, 3, 4],\n",
        "        [5, 6, 7, 8, 9]])"
      ]
    },
    {
      "cell_type": "code",
      "metadata": {
        "colab": {
          "base_uri": "https://localhost:8080/"
        },
        "id": "kGQPBOAdZ55x",
        "outputId": "75372fd4-e35f-48c5-81e3-1af9f13896b9"
      },
      "source": [
        "import numpy as np\n",
        "arr1 = np.arange(10)        # 1D array with elements 0-9\n",
        "arr1 = arr1.reshape(2, 5)   # convert to 2D array\n",
        "arr1"
      ],
      "execution_count": 31,
      "outputs": [
        {
          "output_type": "execute_result",
          "data": {
            "text/plain": [
              "array([[0, 1, 2, 3, 4],\n",
              "       [5, 6, 7, 8, 9]])"
            ]
          },
          "metadata": {
            "tags": []
          },
          "execution_count": 31
        }
      ]
    },
    {
      "cell_type": "markdown",
      "metadata": {
        "id": "Y8BNzPnXZ553"
      },
      "source": [
        "## Question:2"
      ]
    },
    {
      "cell_type": "markdown",
      "metadata": {
        "id": "W4A4QMj4Z554"
      },
      "source": [
        "###  How to stack two arrays vertically?"
      ]
    },
    {
      "cell_type": "markdown",
      "metadata": {
        "id": "jZoFH0BnZ556"
      },
      "source": [
        "#### Desired Output::"
      ]
    },
    {
      "cell_type": "markdown",
      "metadata": {
        "id": "JY3G2ZmpZ559"
      },
      "source": [
        "array([[0, 1, 2, 3, 4],\n",
        "        [5, 6, 7, 8, 9],\n",
        "       [1, 1, 1, 1, 1],\n",
        "       [1, 1, 1, 1, 1]])"
      ]
    },
    {
      "cell_type": "code",
      "metadata": {
        "colab": {
          "base_uri": "https://localhost:8080/"
        },
        "id": "BqlowFtJZ55_",
        "outputId": "d377f67d-0f0b-45f9-b326-f36f41c34beb"
      },
      "source": [
        "# use arr1 from Question1\r\n",
        "arr2 = np.ones((2, 5), dtype=int)\r\n",
        "np.vstack((arr1, arr2))     # vertically stack both arrays"
      ],
      "execution_count": 32,
      "outputs": [
        {
          "output_type": "execute_result",
          "data": {
            "text/plain": [
              "array([[0, 1, 2, 3, 4],\n",
              "       [5, 6, 7, 8, 9],\n",
              "       [1, 1, 1, 1, 1],\n",
              "       [1, 1, 1, 1, 1]])"
            ]
          },
          "metadata": {
            "tags": []
          },
          "execution_count": 32
        }
      ]
    },
    {
      "cell_type": "markdown",
      "metadata": {
        "id": "IsEUTdY3Z56B"
      },
      "source": [
        "## Question:3"
      ]
    },
    {
      "cell_type": "markdown",
      "metadata": {
        "id": "9vE3HN7sZ56C"
      },
      "source": [
        "### How to stack two arrays horizontally?"
      ]
    },
    {
      "cell_type": "markdown",
      "metadata": {
        "id": "p6ORXIvgZ56E"
      },
      "source": [
        "#### Desired Output::"
      ]
    },
    {
      "cell_type": "markdown",
      "metadata": {
        "id": "7vyGWCGWZ56F"
      },
      "source": [
        "array([[0, 1, 2, 3, 4, 1, 1, 1, 1, 1],\n",
        "       [5, 6, 7, 8, 9, 1, 1, 1, 1, 1]])"
      ]
    },
    {
      "cell_type": "code",
      "metadata": {
        "colab": {
          "base_uri": "https://localhost:8080/"
        },
        "id": "7qt1SCEDZ56G",
        "outputId": "b175fb08-6ad5-4751-8619-4b1e6620f5b8"
      },
      "source": [
        "# use arr1 and arr2 from prev. question\r\n",
        "np.hstack((arr1, arr2))"
      ],
      "execution_count": 33,
      "outputs": [
        {
          "output_type": "execute_result",
          "data": {
            "text/plain": [
              "array([[0, 1, 2, 3, 4, 1, 1, 1, 1, 1],\n",
              "       [5, 6, 7, 8, 9, 1, 1, 1, 1, 1]])"
            ]
          },
          "metadata": {
            "tags": []
          },
          "execution_count": 33
        }
      ]
    },
    {
      "cell_type": "markdown",
      "metadata": {
        "id": "GQDb0nNpZ56H"
      },
      "source": [
        "## Question:4"
      ]
    },
    {
      "cell_type": "markdown",
      "metadata": {
        "id": "g9dV_QhaZ56I"
      },
      "source": [
        "### How to convert an array of arrays into a flat 1d array?"
      ]
    },
    {
      "cell_type": "markdown",
      "metadata": {
        "id": "k2Bog__BZ56J"
      },
      "source": [
        "#### Desired Output::"
      ]
    },
    {
      "cell_type": "markdown",
      "metadata": {
        "id": "HptZMfY4Z56K"
      },
      "source": [
        "array([0, 1, 2, 3, 4, 5, 6, 7, 8, 9])"
      ]
    },
    {
      "cell_type": "code",
      "metadata": {
        "colab": {
          "base_uri": "https://localhost:8080/"
        },
        "id": "uvH8EwMoZ56L",
        "outputId": "78b995e3-03a2-413d-9009-fbd9ae25f200"
      },
      "source": [
        "arr3 = np.array([[0, 1], [2, 3], [4, 5], [6, 7], [8, 9]])   # array of 5 arrays with 2 elements each\r\n",
        "arr3.flatten()"
      ],
      "execution_count": 36,
      "outputs": [
        {
          "output_type": "execute_result",
          "data": {
            "text/plain": [
              "array([0, 1, 2, 3, 4, 5, 6, 7, 8, 9])"
            ]
          },
          "metadata": {
            "tags": []
          },
          "execution_count": 36
        }
      ]
    },
    {
      "cell_type": "markdown",
      "metadata": {
        "id": "c1e8W_XqZ56M"
      },
      "source": [
        "## Question:5"
      ]
    },
    {
      "cell_type": "markdown",
      "metadata": {
        "id": "48w0sy4KZ56M"
      },
      "source": [
        "### How to Convert higher dimension into one dimension?"
      ]
    },
    {
      "cell_type": "markdown",
      "metadata": {
        "id": "qhC42jJKZ56O"
      },
      "source": [
        "#### Desired Output::"
      ]
    },
    {
      "cell_type": "markdown",
      "metadata": {
        "id": "Yhs5btPgZ56O"
      },
      "source": [
        "array([ 0, 1, 2, 3, 4, 5, 6, 7, 8, 9, 10, 11, 12, 13, 14])"
      ]
    },
    {
      "cell_type": "code",
      "metadata": {
        "colab": {
          "base_uri": "https://localhost:8080/"
        },
        "id": "_SpIBgCqZ56S",
        "outputId": "da604f9a-9b76-4fd9-f25d-3a228d1fbc91"
      },
      "source": [
        "arr4 = np.array([[0, 1, 2, 3, 4], [5, 6, 7, 8 , 9], [10, 11, 12, 13, 14]])    # dimension or shape = (3, 5)\r\n",
        "np.reshape(arr4, -1)\r\n",
        "# or simply\r\n",
        "arr5 = arr4.reshape(-1)     # arr5 is 1D\r\n",
        "arr5"
      ],
      "execution_count": 47,
      "outputs": [
        {
          "output_type": "execute_result",
          "data": {
            "text/plain": [
              "array([ 0,  1,  2,  3,  4,  5,  6,  7,  8,  9, 10, 11, 12, 13, 14])"
            ]
          },
          "metadata": {
            "tags": []
          },
          "execution_count": 47
        }
      ]
    },
    {
      "cell_type": "markdown",
      "metadata": {
        "id": "99twJImzZ56U"
      },
      "source": [
        "## Question:6"
      ]
    },
    {
      "cell_type": "markdown",
      "metadata": {
        "id": "7mZGzFf9Z56V"
      },
      "source": [
        "### Convert one dimension to higher dimension?"
      ]
    },
    {
      "cell_type": "markdown",
      "metadata": {
        "id": "E2Fy0AqBZ56V"
      },
      "source": [
        "#### Desired Output::"
      ]
    },
    {
      "cell_type": "markdown",
      "metadata": {
        "id": "e60qqMveZ56W"
      },
      "source": [
        "array([[ 0, 1, 2],\n",
        "[ 3, 4, 5],\n",
        "[ 6, 7, 8],\n",
        "[ 9, 10, 11],\n",
        "[12, 13, 14]])"
      ]
    },
    {
      "cell_type": "code",
      "metadata": {
        "colab": {
          "base_uri": "https://localhost:8080/"
        },
        "id": "ENNlEJDCZ56X",
        "outputId": "3bef9f1e-0387-4996-9830-7d9c07217dd9"
      },
      "source": [
        "arr5.reshape(5, 3)    # or arr5.reshape(5, -1)"
      ],
      "execution_count": 106,
      "outputs": [
        {
          "output_type": "execute_result",
          "data": {
            "text/plain": [
              "array([[ 0,  1,  2],\n",
              "       [ 3,  4,  5],\n",
              "       [ 6,  7,  8],\n",
              "       [ 9, 10, 11],\n",
              "       [12, 13, 14]])"
            ]
          },
          "metadata": {
            "tags": []
          },
          "execution_count": 106
        }
      ]
    },
    {
      "cell_type": "markdown",
      "metadata": {
        "id": "Y5Y8AyMoZ56Y"
      },
      "source": [
        "## Question:7"
      ]
    },
    {
      "cell_type": "markdown",
      "metadata": {
        "id": "tXkuu9s4Z56Z"
      },
      "source": [
        "### Create 5x5 an array and find the square of an array?"
      ]
    },
    {
      "cell_type": "code",
      "metadata": {
        "colab": {
          "base_uri": "https://localhost:8080/"
        },
        "id": "1SEYrQLxZ56a",
        "outputId": "e76541b0-cd48-4218-afc0-81d0c758adfb"
      },
      "source": [
        "arr6 = np.arange(25).reshape(5, 5)\r\n",
        "print(\"Input Array:\\n\", arr6, \"\\n\\nSquared Array:\\n\", arr6 ** 2)"
      ],
      "execution_count": 95,
      "outputs": [
        {
          "output_type": "stream",
          "text": [
            "Input Array:\n",
            " [[ 0  1  2  3  4]\n",
            " [ 5  6  7  8  9]\n",
            " [10 11 12 13 14]\n",
            " [15 16 17 18 19]\n",
            " [20 21 22 23 24]] \n",
            "\n",
            "Squared Array:\n",
            " [[  0   1   4   9  16]\n",
            " [ 25  36  49  64  81]\n",
            " [100 121 144 169 196]\n",
            " [225 256 289 324 361]\n",
            " [400 441 484 529 576]]\n"
          ],
          "name": "stdout"
        }
      ]
    },
    {
      "cell_type": "markdown",
      "metadata": {
        "id": "WjrvV3-DZ56b"
      },
      "source": [
        "## Question:8"
      ]
    },
    {
      "cell_type": "markdown",
      "metadata": {
        "id": "WZwNKCMJZ56c"
      },
      "source": [
        "### Create 5x6 an array and find the mean?"
      ]
    },
    {
      "cell_type": "code",
      "metadata": {
        "colab": {
          "base_uri": "https://localhost:8080/"
        },
        "id": "A_KbVGrHZ56c",
        "outputId": "83ef7638-d9ff-4178-e994-676b9e9fdadc"
      },
      "source": [
        "arr7 = np.arange(30).reshape(5, 6)\r\n",
        "print(\"Input Array:\\n\", arr7, \"\\n\\nMean of Array:\")\r\n",
        "np.mean(arr7)   # or arr7.mean()"
      ],
      "execution_count": 105,
      "outputs": [
        {
          "output_type": "stream",
          "text": [
            "Input Array:\n",
            " [[ 0  1  2  3  4  5]\n",
            " [ 6  7  8  9 10 11]\n",
            " [12 13 14 15 16 17]\n",
            " [18 19 20 21 22 23]\n",
            " [24 25 26 27 28 29]] \n",
            "\n",
            "Mean of Array:\n"
          ],
          "name": "stdout"
        },
        {
          "output_type": "execute_result",
          "data": {
            "text/plain": [
              "14.5"
            ]
          },
          "metadata": {
            "tags": []
          },
          "execution_count": 105
        }
      ]
    },
    {
      "cell_type": "markdown",
      "metadata": {
        "id": "tH2BqtMUZ56d"
      },
      "source": [
        "## Question:9"
      ]
    },
    {
      "cell_type": "markdown",
      "metadata": {
        "id": "TkHTmV5-Z56e"
      },
      "source": [
        "### Find the standard deviation of the previous array in Q8?"
      ]
    },
    {
      "cell_type": "code",
      "metadata": {
        "colab": {
          "base_uri": "https://localhost:8080/"
        },
        "id": "S8zOE2SlZ56f",
        "outputId": "feed6087-cde8-4868-f15c-7b50879d36cd"
      },
      "source": [
        "print(\"Input Array:\\n\", arr7, \"\\n\\nStd. Deviation of Array:\")\r\n",
        "round(np.std(arr7), 3)    # or arr7.std()"
      ],
      "execution_count": 104,
      "outputs": [
        {
          "output_type": "stream",
          "text": [
            "Input Array:\n",
            " [[ 0  1  2  3  4  5]\n",
            " [ 6  7  8  9 10 11]\n",
            " [12 13 14 15 16 17]\n",
            " [18 19 20 21 22 23]\n",
            " [24 25 26 27 28 29]] \n",
            "\n",
            "Std. Deviation of Array:\n"
          ],
          "name": "stdout"
        },
        {
          "output_type": "execute_result",
          "data": {
            "text/plain": [
              "8.655"
            ]
          },
          "metadata": {
            "tags": []
          },
          "execution_count": 104
        }
      ]
    },
    {
      "cell_type": "markdown",
      "metadata": {
        "id": "jaN_EDDwZ56g"
      },
      "source": [
        "## Question:10"
      ]
    },
    {
      "cell_type": "markdown",
      "metadata": {
        "id": "3cApki0sZ56h"
      },
      "source": [
        "### Find the median of the previous array in Q8?"
      ]
    },
    {
      "cell_type": "code",
      "metadata": {
        "colab": {
          "base_uri": "https://localhost:8080/"
        },
        "id": "eYL7t6n8Z56i",
        "outputId": "e61d7f97-3814-4b03-bed9-d738233f2663"
      },
      "source": [
        "print(\"Input Array:\\n\", arr7, \"\\n\\nArray Median:\")\r\n",
        "np.median(arr7)"
      ],
      "execution_count": 103,
      "outputs": [
        {
          "output_type": "stream",
          "text": [
            "Input Array:\n",
            " [[ 0  1  2  3  4  5]\n",
            " [ 6  7  8  9 10 11]\n",
            " [12 13 14 15 16 17]\n",
            " [18 19 20 21 22 23]\n",
            " [24 25 26 27 28 29]] \n",
            "\n",
            "Array Median:\n"
          ],
          "name": "stdout"
        },
        {
          "output_type": "execute_result",
          "data": {
            "text/plain": [
              "14.5"
            ]
          },
          "metadata": {
            "tags": []
          },
          "execution_count": 103
        }
      ]
    },
    {
      "cell_type": "markdown",
      "metadata": {
        "id": "_ii0C_e0Z56k"
      },
      "source": [
        "## Question:11"
      ]
    },
    {
      "cell_type": "markdown",
      "metadata": {
        "id": "44BEsK2vZ56l"
      },
      "source": [
        "### Find the transpose of the previous array in Q8?"
      ]
    },
    {
      "cell_type": "code",
      "metadata": {
        "colab": {
          "base_uri": "https://localhost:8080/"
        },
        "id": "e_joDleWZ56m",
        "outputId": "b2a3c1ce-3ef1-4efc-da1b-60bdf22d3b75"
      },
      "source": [
        "print(\"Input Array:\\n\", arr7, \"\\n\\nArray Transpose:\\n\", arr7.transpose())"
      ],
      "execution_count": 86,
      "outputs": [
        {
          "output_type": "stream",
          "text": [
            "Input Array:\n",
            " [[ 0  1  2  3  4  5]\n",
            " [ 6  7  8  9 10 11]\n",
            " [12 13 14 15 16 17]\n",
            " [18 19 20 21 22 23]\n",
            " [24 25 26 27 28 29]] \n",
            "\n",
            "Array Transpose:\n",
            " [[ 0  6 12 18 24]\n",
            " [ 1  7 13 19 25]\n",
            " [ 2  8 14 20 26]\n",
            " [ 3  9 15 21 27]\n",
            " [ 4 10 16 22 28]\n",
            " [ 5 11 17 23 29]]\n"
          ],
          "name": "stdout"
        }
      ]
    },
    {
      "cell_type": "markdown",
      "metadata": {
        "id": "u5-C0MKQZ56n"
      },
      "source": [
        "## Question:12"
      ]
    },
    {
      "cell_type": "markdown",
      "metadata": {
        "id": "lXb5hQ1kZ56o"
      },
      "source": [
        "### Create a 4x4 an array and find the sum of diagonal elements?"
      ]
    },
    {
      "cell_type": "code",
      "metadata": {
        "colab": {
          "base_uri": "https://localhost:8080/"
        },
        "id": "TwRxGjsJZ56q",
        "outputId": "df2f44c4-e33c-4245-a295-7c45522d2a29"
      },
      "source": [
        "arr8 = np.arange(16).reshape(4, 4)\r\n",
        "print(\"Input Array:\\n\", arr8, \"\\n\\nSum of Diagonal Elements =\", sum(np.diagonal(arr8)))      # or np.trace(arr8)"
      ],
      "execution_count": 100,
      "outputs": [
        {
          "output_type": "stream",
          "text": [
            "Input Array:\n",
            " [[ 0  1  2  3]\n",
            " [ 4  5  6  7]\n",
            " [ 8  9 10 11]\n",
            " [12 13 14 15]] \n",
            "\n",
            "Sum of Diagonal Elements = 30\n"
          ],
          "name": "stdout"
        }
      ]
    },
    {
      "cell_type": "markdown",
      "metadata": {
        "id": "kGHqnwbgZ56r"
      },
      "source": [
        "## Question:13"
      ]
    },
    {
      "cell_type": "markdown",
      "metadata": {
        "id": "QrPdQ4nOZ56t"
      },
      "source": [
        "### Find the determinant of the previous array in Q12?"
      ]
    },
    {
      "cell_type": "code",
      "metadata": {
        "colab": {
          "base_uri": "https://localhost:8080/"
        },
        "id": "oN_mnJvZZ56u",
        "outputId": "8e4eb13d-1674-4e5d-9fa5-444f6948863a"
      },
      "source": [
        "print(\"Input Array:\\n\", arr8, \"\\n\\nDeterminant of Array =\", np.linalg.det(arr8))      # or np.trace(arr8)"
      ],
      "execution_count": 108,
      "outputs": [
        {
          "output_type": "stream",
          "text": [
            "Input Array:\n",
            " [[ 0  1  2  3]\n",
            " [ 4  5  6  7]\n",
            " [ 8  9 10 11]\n",
            " [12 13 14 15]] \n",
            "\n",
            "Determinant of Array = 0.0\n"
          ],
          "name": "stdout"
        }
      ]
    },
    {
      "cell_type": "markdown",
      "metadata": {
        "id": "PkJVf-4NZ56v"
      },
      "source": [
        "## Question:14"
      ]
    },
    {
      "cell_type": "markdown",
      "metadata": {
        "id": "CUX-ENp1Z56w"
      },
      "source": [
        "### Find the 5th and 95th percentile of an array?"
      ]
    },
    {
      "cell_type": "code",
      "metadata": {
        "id": "wyXbTeAWZ56x"
      },
      "source": [
        ""
      ],
      "execution_count": null,
      "outputs": []
    },
    {
      "cell_type": "markdown",
      "metadata": {
        "id": "tfvj4pcCZ56y"
      },
      "source": [
        "## Question:15"
      ]
    },
    {
      "cell_type": "markdown",
      "metadata": {
        "id": "xhgnsnUQZ56z"
      },
      "source": [
        "### How to find if a given array has any null values?"
      ]
    },
    {
      "cell_type": "code",
      "metadata": {
        "id": "CChCCLdxZ561"
      },
      "source": [
        ""
      ],
      "execution_count": null,
      "outputs": []
    }
  ]
}